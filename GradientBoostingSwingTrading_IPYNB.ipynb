{
  "nbformat": 4,
  "nbformat_minor": 0,
  "metadata": {
    "colab": {
      "provenance": [],
      "authorship_tag": "ABX9TyMe7KQYRXPatc3RzsprBqu2",
      "include_colab_link": true
    },
    "kernelspec": {
      "name": "python3",
      "display_name": "Python 3"
    },
    "language_info": {
      "name": "python"
    }
  },
  "cells": [
    {
      "cell_type": "markdown",
      "metadata": {
        "id": "view-in-github",
        "colab_type": "text"
      },
      "source": [
        "<a href=\"https://colab.research.google.com/github/Navneeth08k/dayTradingModel/blob/main/GradientBoostingSwingTrading_IPYNB.ipynb\" target=\"_parent\"><img src=\"https://colab.research.google.com/assets/colab-badge.svg\" alt=\"Open In Colab\"/></a>"
      ]
    },
    {
      "cell_type": "markdown",
      "source": [
        "## Gradient Boosting approach to swing trading.\n",
        "Gradient boosting strengths: Good for tabular data and can capture complex patterns in historcial data\n",
        "\n",
        "Weaknesses: No time-awareness"
      ],
      "metadata": {
        "id": "zlfiMXLJwqIS"
      }
    },
    {
      "cell_type": "code",
      "execution_count": 28,
      "metadata": {
        "colab": {
          "base_uri": "https://localhost:8080/"
        },
        "id": "LU9bY8Pt5Nbg",
        "outputId": "75f1e71b-1669-4f87-e92d-f08356804cad"
      },
      "outputs": [
        {
          "output_type": "stream",
          "name": "stdout",
          "text": [
            "Requirement already satisfied: alpha_vantage in /usr/local/lib/python3.10/dist-packages (3.0.0)\n",
            "Requirement already satisfied: pandas in /usr/local/lib/python3.10/dist-packages (2.2.2)\n",
            "Requirement already satisfied: aiohttp in /usr/local/lib/python3.10/dist-packages (from alpha_vantage) (3.11.11)\n",
            "Requirement already satisfied: requests in /usr/local/lib/python3.10/dist-packages (from alpha_vantage) (2.32.3)\n",
            "Requirement already satisfied: numpy>=1.22.4 in /usr/local/lib/python3.10/dist-packages (from pandas) (1.26.4)\n",
            "Requirement already satisfied: python-dateutil>=2.8.2 in /usr/local/lib/python3.10/dist-packages (from pandas) (2.8.2)\n",
            "Requirement already satisfied: pytz>=2020.1 in /usr/local/lib/python3.10/dist-packages (from pandas) (2024.2)\n",
            "Requirement already satisfied: tzdata>=2022.7 in /usr/local/lib/python3.10/dist-packages (from pandas) (2024.2)\n",
            "Requirement already satisfied: six>=1.5 in /usr/local/lib/python3.10/dist-packages (from python-dateutil>=2.8.2->pandas) (1.17.0)\n",
            "Requirement already satisfied: aiohappyeyeballs>=2.3.0 in /usr/local/lib/python3.10/dist-packages (from aiohttp->alpha_vantage) (2.4.4)\n",
            "Requirement already satisfied: aiosignal>=1.1.2 in /usr/local/lib/python3.10/dist-packages (from aiohttp->alpha_vantage) (1.3.2)\n",
            "Requirement already satisfied: async-timeout<6.0,>=4.0 in /usr/local/lib/python3.10/dist-packages (from aiohttp->alpha_vantage) (4.0.3)\n",
            "Requirement already satisfied: attrs>=17.3.0 in /usr/local/lib/python3.10/dist-packages (from aiohttp->alpha_vantage) (24.3.0)\n",
            "Requirement already satisfied: frozenlist>=1.1.1 in /usr/local/lib/python3.10/dist-packages (from aiohttp->alpha_vantage) (1.5.0)\n",
            "Requirement already satisfied: multidict<7.0,>=4.5 in /usr/local/lib/python3.10/dist-packages (from aiohttp->alpha_vantage) (6.1.0)\n",
            "Requirement already satisfied: propcache>=0.2.0 in /usr/local/lib/python3.10/dist-packages (from aiohttp->alpha_vantage) (0.2.1)\n",
            "Requirement already satisfied: yarl<2.0,>=1.17.0 in /usr/local/lib/python3.10/dist-packages (from aiohttp->alpha_vantage) (1.18.3)\n",
            "Requirement already satisfied: charset-normalizer<4,>=2 in /usr/local/lib/python3.10/dist-packages (from requests->alpha_vantage) (3.4.1)\n",
            "Requirement already satisfied: idna<4,>=2.5 in /usr/local/lib/python3.10/dist-packages (from requests->alpha_vantage) (3.10)\n",
            "Requirement already satisfied: urllib3<3,>=1.21.1 in /usr/local/lib/python3.10/dist-packages (from requests->alpha_vantage) (2.3.0)\n",
            "Requirement already satisfied: certifi>=2017.4.17 in /usr/local/lib/python3.10/dist-packages (from requests->alpha_vantage) (2024.12.14)\n",
            "Requirement already satisfied: typing-extensions>=4.1.0 in /usr/local/lib/python3.10/dist-packages (from multidict<7.0,>=4.5->aiohttp->alpha_vantage) (4.12.2)\n"
          ]
        }
      ],
      "source": [
        "#requirements install\n",
        "pip install alpha_vantage pandas\n"
      ]
    },
    {
      "cell_type": "code",
      "source": [
        "from alpha_vantage.timeseries import TimeSeries\n",
        "import pandas as pd\n",
        "\n",
        "# Set your API key\n",
        "api_key = 'WF7QE42TQTE34NG8'\n",
        "\n",
        "# Initialize TimeSeries\n",
        "ts = TimeSeries(key=api_key, output_format='pandas')\n",
        "\n",
        "# Fetch daily data for a specific stock\n",
        "symbol = 'AAPL'\n",
        "data, meta_data = ts.get_daily(symbol=symbol, outputsize='full')\n",
        "\n",
        "# Rename columns for clarity\n",
        "data = data.rename(columns={\n",
        "    '1. open': 'Open',\n",
        "    '2. high': 'High',\n",
        "    '3. low': 'Low',\n",
        "    '4. close': 'Close',\n",
        "    '5. volume': 'Volume'\n",
        "})\n",
        "\n",
        "# Reverse the order to make the earliest data first\n",
        "data = data.sort_index()\n",
        "\n",
        "# Display the first few rows\n",
        "print(data.tail())\n"
      ],
      "metadata": {
        "colab": {
          "base_uri": "https://localhost:8080/"
        },
        "id": "RO7NODMy5dQC",
        "outputId": "afd049d0-0c4f-4d27-aee3-81de86a7b30f"
      },
      "execution_count": 56,
      "outputs": [
        {
          "output_type": "stream",
          "name": "stdout",
          "text": [
            "              Open      High     Low   Close      Volume\n",
            "date                                                    \n",
            "2025-01-03  243.36  244.1800  241.89  243.36  40244114.0\n",
            "2025-01-06  244.31  247.3300  243.20  245.00  45045571.0\n",
            "2025-01-07  242.98  245.5500  241.35  242.21  40855960.0\n",
            "2025-01-08  241.92  243.7123  240.05  242.70  37628940.0\n",
            "2025-01-10  240.01  240.1600  233.00  236.85  61373819.0\n"
          ]
        }
      ]
    },
    {
      "cell_type": "markdown",
      "source": [
        "Below I will be adding technical indicators that are commonly used by swing traders. I added SMA with period 10, sma with period 50, rsi, and bollinger bands."
      ],
      "metadata": {
        "id": "lvh4RKibvWJr"
      }
    },
    {
      "cell_type": "code",
      "source": [
        "# Simple Moving Average (SMA)\n",
        "data['sma_10'] = data['Close'].rolling(window=10).mean()\n",
        "data['sma_50'] = data['Close'].rolling(window=50).mean()\n",
        "\n",
        "# Relative Strength Index (RSI)\n",
        "delta = data['Close'].diff()\n",
        "gain = (delta.where(delta > 0, 0)).rolling(window=14).mean()\n",
        "loss = (-delta.where(delta < 0, 0)).rolling(window=14).mean()\n",
        "data['rsi'] = 100 - (100 / (1 + gain / loss))\n",
        "\n",
        "# Bollinger Bands\n",
        "data['bb_upper'] = data['sma_10'] + 2 * data['Close'].rolling(window=10).std()\n",
        "data['bb_lower'] = data['sma_10'] - 2 * data['Close'].rolling(window=10).std()\n",
        "\n",
        "# Drop rows with NaN values created by rolling computations\n",
        "data = data.dropna()\n",
        "\n",
        "# Display the first few rows with indicators\n",
        "print(data[['Close', 'sma_10', 'sma_50', 'rsi', 'bb_upper', 'bb_lower']].head())\n"
      ],
      "metadata": {
        "colab": {
          "base_uri": "https://localhost:8080/"
        },
        "id": "Qzewr3cc5kqz",
        "outputId": "dac3b3b1-d6f2-49d8-c4b4-f65e1cc2fd1f"
      },
      "execution_count": 57,
      "outputs": [
        {
          "output_type": "stream",
          "name": "stdout",
          "text": [
            "             Close   sma_10   sma_50        rsi    bb_upper   bb_lower\n",
            "date                                                                  \n",
            "2000-01-11   92.75  100.725  97.3678  41.466830  111.284896  90.165104\n",
            "2000-01-12   87.19   99.375  97.5592  39.397971  112.970271  85.779729\n",
            "2000-01-13   96.75   99.019  97.8892  44.896416  112.691677  85.346323\n",
            "2000-01-14  100.44   98.782  98.2680  50.860887  112.243147  85.320853\n",
            "2000-01-18  103.94   97.982  98.6744  54.227320  108.623169  87.340831\n"
          ]
        }
      ]
    },
    {
      "cell_type": "markdown",
      "source": [
        "Below set target. I am saying that the target is at least 1 percent gain in 5 days"
      ],
      "metadata": {
        "id": "G4Lg8gXhvlC_"
      }
    },
    {
      "cell_type": "code",
      "source": [
        "data[\"target\"] = ((data[\"Close\"].shift(-5) - data[\"Close\"]) / data[\"Close\"] >= 0.01).astype(int)  # 1% gain in 5 days\n",
        "\n"
      ],
      "metadata": {
        "id": "mWkaGyjj50Qb"
      },
      "execution_count": 63,
      "outputs": []
    },
    {
      "cell_type": "code",
      "source": [
        "from sklearn.utils import resample\n",
        "from sklearn.model_selection import TimeSeriesSplit\n",
        "\n",
        "# Define features and target\n",
        "X = data[['sma_10', 'sma_50', 'rsi', 'bb_upper', 'bb_lower', 'Volume', 'Close']]\n",
        "y = data['target']\n",
        "\n",
        "# Combine features and target into a single dataset\n",
        "dataset = pd.concat([X, y], axis=1)\n",
        "\n",
        "# Separate majority and minority classes\n",
        "majority = dataset[dataset['target'] == 0]\n",
        "minority = dataset[dataset['target'] == 1]\n",
        "\n",
        "# Upsample minority class to balance the dataset\n",
        "minority_upsampled = resample(minority,\n",
        "                               replace=True,\n",
        "                               n_samples=len(majority),\n",
        "                               random_state=42)\n",
        "\n",
        "# Combine majority and upsampled minority\n",
        "balanced_dataset = pd.concat([majority, minority_upsampled])\n",
        "\n",
        "# Separate features and target from the balanced dataset\n",
        "X_balanced = balanced_dataset.drop('target', axis=1)\n",
        "y_balanced = balanced_dataset['target']\n",
        "\n",
        "# Use time-series split for training and testing\n",
        "tscv = TimeSeriesSplit(n_splits=5)\n",
        "\n",
        "for train_index, test_index in tscv.split(X_balanced):\n",
        "    X_train, X_test = X_balanced.iloc[train_index], X_balanced.iloc[test_index]\n",
        "    y_train, y_test = y_balanced.iloc[train_index], y_balanced.iloc[test_index]\n",
        "\n",
        "    # Display shapes for debugging\n",
        "    print(f\"X_train shape: {X_train.shape}, y_train shape: {y_train.shape}\")\n",
        "    print(f\"X_test shape: {X_test.shape}, y_test shape: {y_test.shape}\")\n"
      ],
      "metadata": {
        "colab": {
          "base_uri": "https://localhost:8080/"
        },
        "id": "VLMvSszn52cK",
        "outputId": "f4c28113-5db8-4e27-eade-b4fcf0b60ebc"
      },
      "execution_count": 69,
      "outputs": [
        {
          "output_type": "stream",
          "name": "stdout",
          "text": [
            "X_train shape: (63, 7), y_train shape: (63,)\n",
            "X_test shape: (63, 7), y_test shape: (63,)\n",
            "X_train shape: (126, 7), y_train shape: (126,)\n",
            "X_test shape: (63, 7), y_test shape: (63,)\n",
            "X_train shape: (189, 7), y_train shape: (189,)\n",
            "X_test shape: (63, 7), y_test shape: (63,)\n",
            "X_train shape: (252, 7), y_train shape: (252,)\n",
            "X_test shape: (63, 7), y_test shape: (63,)\n",
            "X_train shape: (315, 7), y_train shape: (315,)\n",
            "X_test shape: (63, 7), y_test shape: (63,)\n"
          ]
        }
      ]
    },
    {
      "cell_type": "markdown",
      "source": [
        "Train the model. Then backtest it using a starting bankroll of 10000."
      ],
      "metadata": {
        "id": "oQgS7SGBvxWb"
      }
    },
    {
      "cell_type": "code",
      "source": [
        "from sklearn.ensemble import GradientBoostingClassifier\n",
        "\n",
        "# Initialize and train the model\n",
        "model = GradientBoostingClassifier()\n",
        "model.fit(X_train, y_train)\n",
        "\n",
        "# Evaluate the model\n",
        "accuracy = model.score(X_test, y_test)\n",
        "print(f\"Model Accuracy: {accuracy:.2f}\")\n"
      ],
      "metadata": {
        "colab": {
          "base_uri": "https://localhost:8080/"
        },
        "id": "P8LxCNsS53px",
        "outputId": "2baddd4b-5769-4c36-8364-f5f33f22b1bf"
      },
      "execution_count": 70,
      "outputs": [
        {
          "output_type": "stream",
          "name": "stdout",
          "text": [
            "Model Accuracy: 0.86\n"
          ]
        }
      ]
    },
    {
      "cell_type": "code",
      "source": [
        "# Function to backtest on a single stock\n",
        "def backtest_stock(data, symbol):\n",
        "    X = data[[\"sma_10\", \"sma_50\", \"rsi\", \"bb_upper\", \"bb_lower\", \"Volume\", \"Close\"]]\n",
        "    y = data[\"target\"]\n",
        "\n",
        "    # Train-test split\n",
        "    X_train, X_test, y_train, y_test = train_test_split(X, y, test_size=0.2, shuffle=False)\n",
        "\n",
        "    # Train model\n",
        "    model = GradientBoostingClassifier()\n",
        "    model.fit(X_train, y_train)\n",
        "    y_pred = model.predict(X_test)\n",
        "\n",
        "    # Backtest logic\n",
        "    balance = initial_balance\n",
        "    position = 0\n",
        "    portfolio_values = []\n",
        "    position_days = 0\n",
        "    trade_log = []\n",
        "    buy_signals = []\n",
        "    sell_signals = []\n",
        "    wins, losses = 0, 0\n",
        "    entry_price = 0\n",
        "\n",
        "    for i in range(len(y_test)):\n",
        "        price = X_test.iloc[i][\"Close\"]\n",
        "        if y_pred[i] == 1 and position == 0 and position_days == 0:  # Buy signal\n",
        "            trade_amount = min(balance * fraction_to_trade, max_position_size) * (1 - transaction_fee - slippage)\n",
        "            shares_to_buy = trade_amount / price\n",
        "            position += shares_to_buy\n",
        "            balance -= trade_amount\n",
        "            position_days = holding_period\n",
        "            entry_price = price\n",
        "            buy_signals.append(i)\n",
        "            trade_log.append({\n",
        "                \"Type\": \"Buy\",\n",
        "                \"Price\": price,\n",
        "                \"Shares\": shares_to_buy,\n",
        "                \"Balance\": balance,\n",
        "                \"Portfolio Value\": balance + position * price\n",
        "            })\n",
        "        elif y_pred[i] == 0 and position > 0 and position_days <= 0:  # Sell signal\n",
        "            trade_amount = position * price * (1 - transaction_fee - slippage)\n",
        "            balance += trade_amount\n",
        "            profit_or_loss = (price - entry_price) * position\n",
        "            if profit_or_loss > 0:\n",
        "                wins += 1\n",
        "            else:\n",
        "                losses += 1\n",
        "            sell_signals.append(i)\n",
        "            trade_log.append({\n",
        "                \"Type\": \"Sell\",\n",
        "                \"Price\": price,\n",
        "                \"Shares\": position,\n",
        "                \"Balance\": balance,\n",
        "                \"Profit/Loss\": profit_or_loss,\n",
        "                \"Portfolio Value\": balance\n",
        "            })\n",
        "            position = 0\n",
        "            entry_price = 0\n",
        "\n",
        "\n",
        "\n",
        "\n",
        "        position_days = max(position_days - 1, 0)\n",
        "        portfolio_values.append(balance + position * price)\n",
        "\n",
        "    print(data['target'].value_counts())\n",
        "    print(f\"y_pred unique values: {np.unique(y_pred)}\")\n",
        "    print(data.describe())\n",
        "\n",
        "\n",
        "\n",
        "    final_balance = balance + position * X_test.iloc[-1][\"Close\"]\n",
        "    cumulative_returns = (final_balance - initial_balance) / initial_balance\n",
        "    daily_returns = np.diff(portfolio_values) / portfolio_values[:-1]\n",
        "    sharpe_ratio = daily_returns.mean() / daily_returns.std() * np.sqrt(252)\n",
        "    total_trades = wins + losses\n",
        "    win_rate = wins / total_trades if total_trades else 0  # Assign 0 if no trades\n",
        "    # Print summary\n",
        "    print(f\"Stock: {symbol}\")\n",
        "    print(f\"Final Portfolio Value: ${final_balance:.2f}\")\n",
        "    print(f\"Cumulative Returns: {cumulative_returns:.2%}\")\n",
        "    print(f\"Sharpe Ratio: {sharpe_ratio:.2f}\")\n",
        "    print(f\"Winning Trades: {wins}, Losing Trades: {losses}\")\n",
        "    print(f\"Win Rate: {win_rate:.2%}\")\n",
        "    '''\n",
        "    # Plot stock price with buy/sell signals and Bollinger Bands\n",
        "    plt.figure(figsize=(14, 8))\n",
        "    plt.plot(X_test[\"Close\"].values, label=\"Stock Price\", color=\"blue\", alpha=0.7)\n",
        "    plt.plot(X_test[\"bb_upper\"].values, label=\"Bollinger Upper Band\", color=\"orange\", linestyle=\"--\", alpha=0.6)\n",
        "    plt.plot(X_test[\"bb_lower\"].values, label=\"Bollinger Lower Band\", color=\"orange\", linestyle=\"--\", alpha=0.6)\n",
        "    plt.scatter(buy_signals, X_test[\"Close\"].iloc[buy_signals], marker=\"^\", color=\"green\", label=\"Buy Signal\", s=100)\n",
        "    plt.scatter(sell_signals, X_test[\"Close\"].iloc[sell_signals], marker=\"v\", color=\"red\", label=\"Sell Signal\", s=100)\n",
        "    plt.title(f\"{symbol}: Stock Price with Buy/Sell Signals and Bollinger Bands\")\n",
        "    plt.xlabel(\"Time\")\n",
        "    plt.ylabel(\"Stock Price\")\n",
        "    plt.legend()\n",
        "    plt.show()\n",
        "\n",
        "    # Plot portfolio performance\n",
        "    plt.figure(figsize=(14, 8))\n",
        "    plt.plot(portfolio_values, label=\"Portfolio Value\", color=\"purple\")\n",
        "    plt.title(f\"{symbol}: Portfolio Value Over Time\")\n",
        "    plt.xlabel(\"Time\")\n",
        "    plt.ylabel(\"Portfolio Value\")\n",
        "    plt.legend()\n",
        "    plt.show()\n",
        "'''\n",
        "    return pd.DataFrame(trade_log)\n"
      ],
      "metadata": {
        "id": "qAgoZgTnYLdP"
      },
      "execution_count": 71,
      "outputs": []
    },
    {
      "cell_type": "code",
      "source": [
        "# Function to fetch, prepare data, and filter by date range\n",
        "def fetch_and_prepare_data(symbol, start_date=None, end_date=None):\n",
        "    data, meta_data = ts.get_daily(symbol=symbol, outputsize=\"full\")\n",
        "    data = data.rename(columns={\n",
        "        \"1. open\": \"Open\",\n",
        "        \"2. high\": \"High\",\n",
        "        \"3. low\": \"Low\",\n",
        "        \"4. close\": \"Close\",\n",
        "        \"5. volume\": \"Volume\"\n",
        "    })\n",
        "    data = data.sort_index()  # Ensure data is in chronological order\n",
        "    # Add features\n",
        "    data[\"sma_10\"] = data[\"Close\"].rolling(window=10).mean()\n",
        "    data[\"sma_50\"] = data[\"Close\"].rolling(window=50).mean()\n",
        "    data[\"rsi\"] = calculate_rsi(data[\"Close\"], window=14)\n",
        "    data[\"bb_upper\"] = data[\"sma_10\"] + 2 * data[\"Close\"].rolling(window=10).std()\n",
        "    data[\"bb_lower\"] = data[\"sma_10\"] - 2 * data[\"Close\"].rolling(window=10).std()\n",
        "    data[\"target\"] = ((data[\"Close\"].shift(-5) - data[\"Close\"]) / data[\"Close\"] >= 0.03).astype(int)  # 3% gain in 5 days\n",
        "    data = data.dropna()  # Drop rows with NaN values\n",
        "\n",
        "    # Filter by date range if specified\n",
        "    if start_date and end_date:\n",
        "        data = data.loc[start_date:end_date]\n",
        "    return data\n",
        "\n",
        "# Example for testing a 1-month interval\n",
        "symbol = \"NVDA\"\n",
        "start_date = \"2008-01-01\"\n",
        "end_date = \"2022-01-31\"\n",
        "\n",
        "# Fetch and prepare data for the specified interval\n",
        "data = fetch_and_prepare_data(symbol, start_date=start_date, end_date=end_date)\n",
        "\n",
        "# Run backtest\n",
        "trade_log_df = backtest_stock(data, symbol)\n",
        "\n",
        "# Display the trade log\n",
        "print(trade_log_df)\n"
      ],
      "metadata": {
        "colab": {
          "base_uri": "https://localhost:8080/"
        },
        "id": "aEuH-vRCo9Lf",
        "outputId": "a22df819-7956-4560-b2b1-b30137c76868"
      },
      "execution_count": 79,
      "outputs": [
        {
          "output_type": "stream",
          "name": "stdout",
          "text": [
            "target\n",
            "0    2359\n",
            "1    1187\n",
            "Name: count, dtype: int64\n",
            "y_pred unique values: [0 1]\n",
            "              Open         High          Low        Close        Volume  \\\n",
            "count  3546.000000  3546.000000  3546.000000  3546.000000  3.546000e+03   \n",
            "mean    113.434696   115.267548   111.452089   113.436568  1.469570e+07   \n",
            "std     156.345434   158.803671   153.632060   156.346117  1.040812e+07   \n",
            "min       6.000000     6.380000     5.750000     5.900000  1.141128e+06   \n",
            "25%      14.530000    14.750000    14.320000    14.532500  8.049146e+06   \n",
            "50%      22.000000    22.322500    21.685000    22.000000  1.199758e+07   \n",
            "75%     182.692500   184.807500   180.322500   183.025000  1.809295e+07   \n",
            "max     834.140000   835.000000   814.010000   827.940000  1.153631e+08   \n",
            "\n",
            "            sma_10       sma_50          rsi     bb_upper     bb_lower  \\\n",
            "count  3546.000000  3546.000000  3546.000000  3546.000000  3546.000000   \n",
            "mean    113.187183   111.802376    53.805043   121.820571   104.553794   \n",
            "std     155.683603   152.728429    17.574970   170.413901   145.026936   \n",
            "min       6.802000     7.535200     3.078556     7.791003  -175.044180   \n",
            "25%      14.535875    14.434035    41.430645    15.258565    13.697501   \n",
            "50%      21.877750    21.550420    53.984075    23.156850    20.282170   \n",
            "75%     180.473750   175.863500    66.127719   193.081214   170.240154   \n",
            "max     810.056000   699.710800    99.429006  1175.103184   789.159567   \n",
            "\n",
            "            target  \n",
            "count  3546.000000  \n",
            "mean      0.334743  \n",
            "std       0.471967  \n",
            "min       0.000000  \n",
            "25%       0.000000  \n",
            "50%       0.000000  \n",
            "75%       1.000000  \n",
            "max       1.000000  \n",
            "Stock: NVDA\n",
            "Final Portfolio Value: $10691.98\n",
            "Cumulative Returns: 6.92%\n",
            "Sharpe Ratio: 0.47\n",
            "Winning Trades: 8, Losing Trades: 4\n",
            "Win Rate: 66.67%\n",
            "    Type   Price     Shares       Balance  Portfolio Value  Profit/Loss\n",
            "0    Buy  186.30  16.070853   7006.000000     10000.000000          NaN\n",
            "1   Sell  152.88  16.070853   9457.998253      9457.998253  -537.087923\n",
            "2    Buy  178.66  15.849797   6626.273576      9457.998253          NaN\n",
            "3   Sell  174.82  15.849797   9391.593311      9391.593311   -60.863219\n",
            "4    Buy  168.72  16.665736   6579.750274      9391.593311          NaN\n",
            "5   Sell  153.89  16.665736   9139.311060      9139.311060  -247.152870\n",
            "6    Buy  150.07  18.233556   6403.001329      9139.311060          NaN\n",
            "7   Sell  170.78  18.233556   9510.700150      9510.700150   377.616942\n",
            "8    Buy  172.69  16.489105   6663.196525      9510.700150          NaN\n",
            "9   Sell  183.03  16.489105   9675.161498      9675.161498   170.497351\n",
            "10   Buy  225.15  12.865838   6778.418146      9675.161498          NaN\n",
            "11  Sell  235.46  12.865838   9801.749504      9801.749504   132.646786\n",
            "12   Buy  240.20  12.217501   6867.105703      9801.749504          NaN\n",
            "13  Sell  245.81  12.217501   9864.283318      9864.283318    68.540182\n",
            "14   Buy  236.43  12.491505   6910.916893      9864.283318          NaN\n",
            "15  Sell  250.76  12.491505  10037.021840     10037.021840   179.003260\n",
            "16   Buy  205.75  14.605513   7031.937501     10037.021840          NaN\n",
            "17  Sell  245.62  14.605513  10612.168838     10612.168838   582.321811\n",
            "18   Buy  282.78  11.235884   7434.885488     10612.168838          NaN\n",
            "19  Sell  304.87  11.235884  10853.518553     10853.518553   248.200683\n",
            "20   Buy  220.81  14.716469   7603.975098     10853.518553          NaN\n",
            "21  Sell  207.42  14.716469  10650.360057     10650.360057  -197.053516\n",
            "22   Buy  300.37  10.615966   7461.642256     10650.360057          NaN\n",
            "23  Sell  304.90  10.615966  10691.976769     10691.976769    48.090327\n"
          ]
        }
      ]
    },
    {
      "cell_type": "markdown",
      "source": [
        "# We see that this model yielded a 7 percent return over a 14 year time frame. With a win rate of 66.67 percent.\n",
        "\n",
        "However, I want to make a model with a higher yield by making more trades in less time. If I was to run this code on a data of 1 year, it likely wouldn't generate buy/sell signals. This is because gradient boosting is not inherently time-aware. Each row of data is treated independently."
      ],
      "metadata": {
        "id": "KCchNxa9v9ju"
      }
    }
  ]
}